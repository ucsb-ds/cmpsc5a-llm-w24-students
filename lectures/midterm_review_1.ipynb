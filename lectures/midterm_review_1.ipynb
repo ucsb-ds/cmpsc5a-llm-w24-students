{
 "cells": [
  {
   "cell_type": "code",
   "execution_count": 1,
   "id": "a9116842-1283-45e6-a3c3-6c9d52d7a8ad",
   "metadata": {},
   "outputs": [],
   "source": [
    "# Run this cell\n",
    "%load_ext jupyter_ai_magics\n",
    "from datascience import *\n",
    "import numpy as np\n",
    "import math\n",
    "import matplotlib.pyplot as plt\n",
    "%matplotlib inline"
   ]
  },
  {
   "cell_type": "code",
   "execution_count": 2,
   "id": "13cce804-c823-4a77-a3c2-05856c0a2f42",
   "metadata": {},
   "outputs": [],
   "source": [
    "youtube_data = Table().read_table(\"data/youtube_statistics.csv\", encoding = 'ISO-8859-1')"
   ]
  },
  {
   "cell_type": "code",
   "execution_count": null,
   "id": "0c2e63cf-23e0-46db-8a1f-1cfc3169739e",
   "metadata": {},
   "outputs": [],
   "source": []
  }
 ],
 "metadata": {
  "kernelspec": {
   "display_name": "Python 3 (ipykernel)",
   "language": "python",
   "name": "python3"
  },
  "language_info": {
   "codemirror_mode": {
    "name": "ipython",
    "version": 3
   },
   "file_extension": ".py",
   "mimetype": "text/x-python",
   "name": "python",
   "nbconvert_exporter": "python",
   "pygments_lexer": "ipython3",
   "version": "3.11.5"
  }
 },
 "nbformat": 4,
 "nbformat_minor": 5
}
