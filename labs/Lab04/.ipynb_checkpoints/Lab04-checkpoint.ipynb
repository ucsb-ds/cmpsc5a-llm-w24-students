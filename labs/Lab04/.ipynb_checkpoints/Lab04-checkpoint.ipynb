{
 "cells": [
  {
   "cell_type": "code",
   "execution_count": null,
   "id": "9bff3d6f-725f-4580-9802-272084e5b4f5",
   "metadata": {},
   "outputs": [],
   "source": [
    "%load_ext jupyter_ai_magics"
   ]
  },
  {
   "cell_type": "code",
   "execution_count": null,
   "id": "877a9173-f12a-4497-94be-43fcf74617bd",
   "metadata": {},
   "outputs": [],
   "source": [
    "from datascience import *\n",
    "import numpy as np\n",
    "\n",
    "# needed for plotting with datascience module\n",
    "%matplotlib inline\n",
    "import matplotlib.pyplot as plots\n",
    "#plots.style.use('fivethirtyeight')\n",
    "\n",
    "from IPython.display import display, Image"
   ]
  },
  {
   "cell_type": "markdown",
   "id": "4c787963-9f33-42cb-bf7c-340891f88a65",
   "metadata": {},
   "source": [
    "### Data Analysis and Visualization\n",
    "Let us continue analyzing the World University Rankings dataset. We will learn how to ask interesting analytical questions and visualize data! This skillset will help you in the real-world! So let's get more familiar with the concepts we learned!"
   ]
  },
  {
   "cell_type": "code",
   "execution_count": 29,
   "id": "127422d2-2c73-4557-99e3-340a4fbd8e03",
   "metadata": {},
   "outputs": [
    {
     "data": {
      "text/html": [
       "<table border=\"1\" class=\"dataframe\">\n",
       "    <thead>\n",
       "        <tr>\n",
       "            <th>rank</th> <th>ranking-institution-title</th> <th>location</th> <th>Overall scores</th> <th>Research Quality Score</th> <th>Industry Score</th> <th>International Outlook</th> <th>Research Environment Score</th> <th>Teaching Score</th>\n",
       "        </tr>\n",
       "    </thead>\n",
       "    <tbody>\n",
       "        <tr>\n",
       "            <td>1   </td> <td>Massachusetts Institute of Technology</td> <td>United States </td> <td>94.8          </td> <td>92.2                  </td> <td>99.9          </td> <td>89.6                 </td> <td>96.5                      </td> <td>96            </td>\n",
       "        </tr>\n",
       "        <tr>\n",
       "            <td>2   </td> <td>Stanford University                  </td> <td>United States </td> <td>93.1          </td> <td>91.9                  </td> <td>100           </td> <td>83.5                 </td> <td>91.8                      </td> <td>98.2          </td>\n",
       "        </tr>\n",
       "        <tr>\n",
       "            <td>3   </td> <td>University of Oxford                 </td> <td>United Kingdom</td> <td>91.3          </td> <td>81.7                  </td> <td>89.4          </td> <td>94.5                 </td> <td>97.4                      </td> <td>93.5          </td>\n",
       "        </tr>\n",
       "        <tr>\n",
       "            <td>4   </td> <td>University of California, Berkeley   </td> <td>United States </td> <td>90.6          </td> <td>95.2                  </td> <td>90.6          </td> <td>83.5                 </td> <td>92.7                      </td> <td>91.1          </td>\n",
       "        </tr>\n",
       "        <tr>\n",
       "            <td>5   </td> <td>Peking University                    </td> <td>China         </td> <td>90.4          </td> <td>74.5                  </td> <td>95.4          </td> <td>94                   </td> <td>91.8                      </td> <td>96.3          </td>\n",
       "        </tr>\n",
       "    </tbody>\n",
       "</table>\n",
       "<p>... (905 rows omitted)</p>"
      ],
      "text/plain": [
       "<IPython.core.display.HTML object>"
      ]
     },
     "metadata": {},
     "output_type": "display_data"
    }
   ],
   "source": [
    "# Recall the show method\n",
    "ranking = Table.read_table(\"data/world_university_rankings.csv\")\n",
    "ranking.show(5)"
   ]
  },
  {
   "cell_type": "markdown",
   "id": "9f497e9c-2d63-4fb4-8d56-e893b17f1b2a",
   "metadata": {},
   "source": [
    "Looking at this dataset, what are some of the interesting questions you would want to ask?"
   ]
  },
  {
   "cell_type": "markdown",
   "id": "80291f5d-67a7-4ed8-b328-8285aa84f5ae",
   "metadata": {},
   "source": [
    "**Q1**. What are the average Overall scores for countries in the given array below? How can we compare them (visualize them)? Show the new table with average scores as well as the visualization you use. Hint: Think `are.contained_in` https://www.data8.org/datascience/predicates.html#datascience.predicates.are.contained_in and bar charts (`barh`)!"
   ]
  },
  {
   "cell_type": "code",
   "execution_count": null,
   "id": "0b76a623-ee21-4783-82a5-344307e5a968",
   "metadata": {},
   "outputs": [],
   "source": [
    "countries = make_array(\"Australia\", \"Canada\", \"China\",\"India\", \"Switzerland\", \"Singapore\", \"United States\")"
   ]
  },
  {
   "cell_type": "code",
   "execution_count": null,
   "id": "6b56b935-4ce8-4858-b2ee-49fbbe954b15",
   "metadata": {},
   "outputs": [],
   "source": [
    "#SOLUTION"
   ]
  },
  {
   "cell_type": "markdown",
   "id": "5ff5a204-8d59-48dc-b55f-4d1d0282a6f0",
   "metadata": {},
   "source": [
    "#### Prompt Below"
   ]
  },
  {
   "cell_type": "code",
   "execution_count": null,
   "id": "c619711f-cfdd-4c2b-a72b-d262dcc5a7f8",
   "metadata": {},
   "outputs": [],
   "source": [
    "%%ai openai-chat:gpt-3.5-turbo"
   ]
  },
  {
   "cell_type": "markdown",
   "id": "8b752999-b5e7-45f4-88d6-64bd367cdc30",
   "metadata": {},
   "source": [
    "#### Explain workflow here:"
   ]
  },
  {
   "cell_type": "code",
   "execution_count": null,
   "id": "5b35e47d-623c-4399-afce-3b349bfdbde5",
   "metadata": {},
   "outputs": [],
   "source": []
  },
  {
   "cell_type": "markdown",
   "id": "0803be11-1f18-469f-815f-6e2403420c61",
   "metadata": {},
   "source": [
    "**Q2.1**. How do the Overall scores relate to Research Quality Scores? How can you compare them? What can we say about their relationship? Hint: Think `association` or `causality`. Also, note that the two variables are numerical! Which plot would be appropriate to visualize them?"
   ]
  },
  {
   "cell_type": "code",
   "execution_count": null,
   "id": "65bd38cb-1cfd-44ee-b568-3d9dd5b5e9cd",
   "metadata": {},
   "outputs": [],
   "source": [
    "#SOLUTION"
   ]
  },
  {
   "cell_type": "markdown",
   "id": "1b1289f8-73e0-4c6c-81f9-80b34d4706af",
   "metadata": {},
   "source": [
    "#### Prompt Below"
   ]
  },
  {
   "cell_type": "code",
   "execution_count": null,
   "id": "f2a1e968-4567-4e88-8fbc-ee04c1c37665",
   "metadata": {},
   "outputs": [],
   "source": [
    "%%ai openai-chat:gpt-3.5-turbo"
   ]
  },
  {
   "cell_type": "markdown",
   "id": "9749ee21-df8d-411e-acbd-2efac475d259",
   "metadata": {},
   "source": [
    "#### Explain workflow here:"
   ]
  },
  {
   "cell_type": "code",
   "execution_count": null,
   "id": "c7742d8e-3171-4496-9d0e-36aac0fbae6b",
   "metadata": {},
   "outputs": [],
   "source": []
  },
  {
   "cell_type": "markdown",
   "id": "7e1cc7c1-5707-4781-ae69-0d93daf74174",
   "metadata": {},
   "source": [
    "**Q2.2**. Similarly, how do the Overall scores relate to Industry Scores? How can you compare them? What can we say about their relationship?"
   ]
  },
  {
   "cell_type": "code",
   "execution_count": null,
   "id": "8ea590b7-aaac-4f9a-854c-691eb74e98b4",
   "metadata": {},
   "outputs": [],
   "source": [
    "#SOLUTION"
   ]
  },
  {
   "cell_type": "markdown",
   "id": "7a8a5c86-f9cd-4b2a-bbd7-228e5c275122",
   "metadata": {},
   "source": [
    "#### Prompt Below"
   ]
  },
  {
   "cell_type": "code",
   "execution_count": null,
   "id": "2d480907-54c0-4e39-9e2a-9f24988c9d3f",
   "metadata": {},
   "outputs": [],
   "source": [
    "%%ai openai-chat:gpt-3.5-turbo"
   ]
  },
  {
   "cell_type": "markdown",
   "id": "cac722d3-3139-4c37-92b9-5c5c9c6b9413",
   "metadata": {},
   "source": [
    "#### Explain workflow here:"
   ]
  },
  {
   "cell_type": "code",
   "execution_count": null,
   "id": "6db0d49e-4534-40a4-b298-3b2e9da3d26c",
   "metadata": {},
   "outputs": [],
   "source": []
  },
  {
   "cell_type": "markdown",
   "id": "f559a787-257b-427d-a60c-8cf8516139e4",
   "metadata": {},
   "source": [
    "**Challenge Question (UNGRADED)** Can you figure out how the Overall scores and all the other scores in the data are related?"
   ]
  },
  {
   "cell_type": "code",
   "execution_count": null,
   "id": "35aae5e9-e0e9-4bfb-be2b-6bd5d3a81b1e",
   "metadata": {},
   "outputs": [],
   "source": [
    "# SOLUTION "
   ]
  },
  {
   "cell_type": "markdown",
   "id": "38a8df25-f2e6-4a2d-ac0a-5aca837b5950",
   "metadata": {},
   "source": [
    "**Q3.1**. How can we better represent Overall scores to understand its distribution? Visualize the distribution of Overall score. Hint: Think histograms!"
   ]
  },
  {
   "cell_type": "code",
   "execution_count": null,
   "id": "7ffc56eb-fe86-4168-a165-3c3fffffc3a0",
   "metadata": {},
   "outputs": [],
   "source": [
    "#SOLUTION"
   ]
  },
  {
   "cell_type": "markdown",
   "id": "53cd5543-b1ab-4d1d-9d11-5e5a0f9b498d",
   "metadata": {},
   "source": [
    "#### Prompt Below"
   ]
  },
  {
   "cell_type": "code",
   "execution_count": null,
   "id": "1f3c2cd8-14e7-48c6-9df2-f7d8bd36d0f7",
   "metadata": {},
   "outputs": [],
   "source": [
    "%%ai openai-chat:gpt-3.5-turbo"
   ]
  },
  {
   "cell_type": "markdown",
   "id": "aad54a4d-bdfb-4fe3-9a0d-ce459b65de10",
   "metadata": {},
   "source": [
    "#### Explain workflow here:"
   ]
  },
  {
   "cell_type": "code",
   "execution_count": null,
   "id": "95c57336-5181-4265-8547-accd52753305",
   "metadata": {},
   "outputs": [],
   "source": []
  },
  {
   "cell_type": "markdown",
   "id": "0c5e47c5-ec66-4adb-859e-17ea1b4627db",
   "metadata": {},
   "source": [
    "**Q3.2**. Now let us look at the range of Overall scores (code given below). Can you come up with a clearer visualization that makes these numbers easier to read/work with? Hint: Think binning!"
   ]
  },
  {
   "cell_type": "code",
   "execution_count": null,
   "id": "c7afe240-df9a-4a0d-a4a0-7cb03c97dfea",
   "metadata": {},
   "outputs": [],
   "source": [
    "# range of Overall scores\n",
    "min(ranking.column('Overall scores')), max(ranking.column('Overall scores'))"
   ]
  },
  {
   "cell_type": "code",
   "execution_count": null,
   "id": "60075d4b-8b4b-4892-8e8a-0e68b7c09115",
   "metadata": {},
   "outputs": [],
   "source": [
    "#SOLUTION"
   ]
  },
  {
   "cell_type": "markdown",
   "id": "334226c7-77fa-4dc7-a32e-2e011516b6b7",
   "metadata": {},
   "source": [
    "#### Prompt Below"
   ]
  },
  {
   "cell_type": "code",
   "execution_count": null,
   "id": "5e1312e4-454d-46f8-b6bd-003d71589d79",
   "metadata": {},
   "outputs": [],
   "source": [
    "%%ai openai-chat:gpt-3.5-turbo"
   ]
  },
  {
   "cell_type": "markdown",
   "id": "59f76e10-13b6-4390-91c1-e3cab07f2ae2",
   "metadata": {},
   "source": [
    "#### Explain workflow here:"
   ]
  },
  {
   "cell_type": "code",
   "execution_count": null,
   "id": "4432a4ef-746f-4a1f-8e52-9a0ed8006b91",
   "metadata": {},
   "outputs": [],
   "source": []
  },
  {
   "cell_type": "markdown",
   "id": "251974ed-36c1-4a57-909b-170e00361f4d",
   "metadata": {},
   "source": [
    "**Q3.3**. What does the plot from the previous question tell you about the overall scores distribution - how is the shape (bell, uniform, etc.)? Is it skewed (right or left skewed)? Are the scores concentrated within a small range or spread out across a wider range? Is it centered around a particular score range (i.e., mode of the values)?\n",
    "Hint: Mode https://mathworld.wolfram.com/Mode.html. Ask your TAs and ULAs for more help!"
   ]
  },
  {
   "cell_type": "code",
   "execution_count": null,
   "id": "bdadafa8-c8e4-4bb8-9d50-b516dc1fe36b",
   "metadata": {},
   "outputs": [],
   "source": [
    "#SOLUTION"
   ]
  },
  {
   "cell_type": "markdown",
   "id": "2890b7bc-704c-466b-b91d-73061281bc52",
   "metadata": {},
   "source": [
    "#### Prompt Below"
   ]
  },
  {
   "cell_type": "code",
   "execution_count": null,
   "id": "1a36bc02-83cf-42a5-9476-92ec3e68419b",
   "metadata": {},
   "outputs": [],
   "source": [
    "%%ai openai-chat:gpt-3.5-turbo"
   ]
  },
  {
   "cell_type": "markdown",
   "id": "4ae82fbc-f5c5-4bca-a0f3-68e6f2a9f0b8",
   "metadata": {},
   "source": [
    "#### Explain workflow here:"
   ]
  },
  {
   "cell_type": "code",
   "execution_count": null,
   "id": "e1ab2946-4c85-4be9-915d-5f57320d7ea8",
   "metadata": {},
   "outputs": [],
   "source": []
  },
  {
   "cell_type": "markdown",
   "id": "f790589d-b0c8-4930-8f79-f453851bb2c3",
   "metadata": {},
   "source": [
    "**Q4**. Which country has the most universities in the top 10 rankings? Can you visualize the distribution of the locations of the top 20 universities. Order your visualization in descending order (The country with the most universities in the top 20 needs to be at the top).\n",
    "Hint: Think _where_, _group_, _sort_, and _barh_!"
   ]
  },
  {
   "cell_type": "code",
   "execution_count": null,
   "id": "482f9251-01f2-4428-8a4c-a80fdb5d6eb4",
   "metadata": {},
   "outputs": [],
   "source": [
    "#SOLUTION"
   ]
  },
  {
   "cell_type": "markdown",
   "id": "e44ffe1d-de90-40ca-bbc2-3e0fff140053",
   "metadata": {},
   "source": [
    "#### Prompt Below"
   ]
  },
  {
   "cell_type": "code",
   "execution_count": null,
   "id": "2496e51b-54b2-44b0-a042-734b30b8ce00",
   "metadata": {},
   "outputs": [],
   "source": [
    "%%ai openai-chat:gpt-3.5-turbo"
   ]
  },
  {
   "cell_type": "markdown",
   "id": "792f4a9a-493c-48df-a167-ca2c1c306407",
   "metadata": {},
   "source": [
    "#### Explain workflow here:"
   ]
  },
  {
   "cell_type": "code",
   "execution_count": null,
   "id": "70c8682a-540c-4789-881a-6b64a34855dd",
   "metadata": {},
   "outputs": [],
   "source": []
  },
  {
   "cell_type": "markdown",
   "id": "ef0d506c-ec04-427e-b266-f0c8cf7b4d42",
   "metadata": {},
   "source": [
    "**Q5.1**. You are at University of California, Santa Barbara. Can you find it in the table (state your answer and show the code)? What are the different UCs present in the dataset (show the code and the table)? Hint: You may benefit from looking at the documentation https://www.data8.org/datascience/predicates.html#datascience.predicates.are.containing. "
   ]
  },
  {
   "cell_type": "code",
   "execution_count": null,
   "id": "5d768e09-d22a-49f3-9970-63fcdd221c9b",
   "metadata": {},
   "outputs": [],
   "source": [
    "#SOLUTION"
   ]
  },
  {
   "cell_type": "markdown",
   "id": "940ab891-0bda-41bd-85a4-3979d5f4e520",
   "metadata": {},
   "source": [
    "#### Prompt Below"
   ]
  },
  {
   "cell_type": "code",
   "execution_count": null,
   "id": "4ff2be68-6aa1-47b9-b183-4c0466e7f8a3",
   "metadata": {},
   "outputs": [],
   "source": [
    "%%ai openai-chat:gpt-3.5-turbo"
   ]
  },
  {
   "cell_type": "markdown",
   "id": "073df2ca-63de-4fe7-bab6-bd4cd52d764f",
   "metadata": {},
   "source": [
    "#### Explain workflow here:"
   ]
  },
  {
   "cell_type": "code",
   "execution_count": null,
   "id": "981dbafc-74ad-4e62-9a41-564163dd1646",
   "metadata": {},
   "outputs": [],
   "source": []
  },
  {
   "cell_type": "markdown",
   "id": "69671f3b-2615-429d-a68e-41260e9aefc1",
   "metadata": {},
   "source": [
    "**Q5.2**. How do the Overall scores of different UCs compare? Which UC has the highest score? Hint: What type of visualization would you use?"
   ]
  },
  {
   "cell_type": "code",
   "execution_count": null,
   "id": "cdd73875-43d9-484c-b744-70fa925d2311",
   "metadata": {},
   "outputs": [],
   "source": [
    "#SOLUTION"
   ]
  },
  {
   "cell_type": "markdown",
   "id": "7cf478be-0e01-4727-a7e8-f9122282717f",
   "metadata": {},
   "source": [
    "#### Prompt Below"
   ]
  },
  {
   "cell_type": "code",
   "execution_count": null,
   "id": "fe509788-5ce3-4679-b118-f3a1402c7e4d",
   "metadata": {},
   "outputs": [],
   "source": [
    "%%ai openai-chat:gpt-3.5-turbo"
   ]
  },
  {
   "cell_type": "markdown",
   "id": "0bef4e89-606a-4bf8-9460-7a3d27de78ae",
   "metadata": {},
   "source": [
    "#### Explain workflow here:"
   ]
  },
  {
   "cell_type": "code",
   "execution_count": null,
   "id": "1ef065cf-acc4-40ca-acd3-0b18c6dc541f",
   "metadata": {},
   "outputs": [],
   "source": []
  },
  {
   "cell_type": "markdown",
   "id": "187d2c09-a7d5-466f-80b0-22464b3134a0",
   "metadata": {},
   "source": [
    "**Q5.3**. Do the rankings among different UCs change if we look at Research Quality instead? Show your results."
   ]
  },
  {
   "cell_type": "code",
   "execution_count": null,
   "id": "a8702608-3979-4a9c-b10c-3e904e0c5bd7",
   "metadata": {},
   "outputs": [],
   "source": [
    "#SOLUTION"
   ]
  },
  {
   "cell_type": "markdown",
   "id": "398d1d43-b575-4e63-92aa-af1d0c145d6e",
   "metadata": {},
   "source": [
    "#### Prompt Below"
   ]
  },
  {
   "cell_type": "code",
   "execution_count": null,
   "id": "743e3b89-687e-4afb-9858-fde966bd9b75",
   "metadata": {},
   "outputs": [],
   "source": [
    "%%ai openai-chat:gpt-3.5-turbo"
   ]
  },
  {
   "cell_type": "markdown",
   "id": "9f12639a-d331-4645-b79d-2c1a47c5bac6",
   "metadata": {},
   "source": [
    "#### Explain workflow here:"
   ]
  },
  {
   "cell_type": "code",
   "execution_count": null,
   "id": "bbc430fc-5e43-46ad-9072-5d7a82568d5d",
   "metadata": {},
   "outputs": [],
   "source": []
  },
  {
   "cell_type": "markdown",
   "id": "b0b33a87-6058-47d9-b3be-672dd8c52e2e",
   "metadata": {},
   "source": [
    "**Q5.4**. How do the rankings among different UCs compare if we look at Industry Score? Show your results."
   ]
  },
  {
   "cell_type": "code",
   "execution_count": null,
   "id": "ac2cbfbd-b5b4-4344-b4ef-90ebb8fbcaa4",
   "metadata": {},
   "outputs": [],
   "source": [
    "#SOLUTION"
   ]
  },
  {
   "cell_type": "markdown",
   "id": "efd642fe-62b7-4098-a753-fd554f47e54e",
   "metadata": {},
   "source": [
    "#### Prompt Below"
   ]
  },
  {
   "cell_type": "code",
   "execution_count": null,
   "id": "f347b417-dbda-46ac-af76-cc6ead2b5174",
   "metadata": {},
   "outputs": [],
   "source": [
    "%%ai openai-chat:gpt-3.5-turbo"
   ]
  },
  {
   "cell_type": "markdown",
   "id": "dfd37b9c-14ee-4129-9b04-c09210747105",
   "metadata": {},
   "source": [
    "#### Explain workflow here:"
   ]
  },
  {
   "cell_type": "code",
   "execution_count": null,
   "id": "9e1b2bd7-d63c-4c8d-838f-2011388b525b",
   "metadata": {},
   "outputs": [],
   "source": []
  },
  {
   "cell_type": "markdown",
   "id": "bd68e1c1-bfc2-41f5-bfe0-bb6bc3070934",
   "metadata": {},
   "source": [
    "**Q6.1**. Now, you have a better hold of the data. You have decided that you are more inclined towards the Industry and you want to apply to some of the schools in the dataset. How can you find the top 10 universities better suited for your applications? Add a column that shows the new rank of every university if it was ranked by Industry Score. Think table methods _sort_, _take_, _with_column_ and use the numpy module!"
   ]
  },
  {
   "cell_type": "code",
   "execution_count": null,
   "id": "261f0874-d0a7-4836-94b3-b2c4a7d7266f",
   "metadata": {},
   "outputs": [],
   "source": [
    "#SOLUTION"
   ]
  },
  {
   "cell_type": "markdown",
   "id": "5dc5fff5-06ae-426b-b48c-6719cc0354b8",
   "metadata": {},
   "source": [
    "#### Prompt Below"
   ]
  },
  {
   "cell_type": "code",
   "execution_count": null,
   "id": "143ae887-28f6-4f19-a6de-f9088fa78b7a",
   "metadata": {},
   "outputs": [],
   "source": [
    "%%ai openai-chat:gpt-3.5-turbo"
   ]
  },
  {
   "cell_type": "markdown",
   "id": "d3be20a0-d562-4f97-8e81-82755c27b4c6",
   "metadata": {},
   "source": [
    "#### Explain workflow here:"
   ]
  },
  {
   "cell_type": "code",
   "execution_count": null,
   "id": "0d93bc6e-ba80-4767-817e-035b26cdeb63",
   "metadata": {},
   "outputs": [],
   "source": []
  },
  {
   "cell_type": "markdown",
   "id": "bd8a5b2a-f7d8-49e5-9cc6-476145f5178c",
   "metadata": {},
   "source": [
    "**Q6.2**. Now that you know which universities rank highest in your area of interest, you have decided to narrow it down to schools only in the US. What are your possible options in that case? Can you better visualize this data? What do you notice about the scores of these universities and how do you think you will rank them now to make a better decision? "
   ]
  },
  {
   "cell_type": "code",
   "execution_count": null,
   "id": "bc80df84-9c14-41db-8175-d5417b087cf9",
   "metadata": {},
   "outputs": [],
   "source": [
    "#SOLUTION"
   ]
  },
  {
   "cell_type": "markdown",
   "id": "7bf173c6-df19-4cef-a21d-3eaf46e8a035",
   "metadata": {},
   "source": [
    "#### Prompt Below"
   ]
  },
  {
   "cell_type": "code",
   "execution_count": null,
   "id": "f859bc66-bb44-4b4c-b213-f41e2c854f70",
   "metadata": {},
   "outputs": [],
   "source": [
    "%%ai openai-chat:gpt-3.5-turbo"
   ]
  },
  {
   "cell_type": "markdown",
   "id": "cc8bc868-d51e-4cce-a7a4-27a18ffa0108",
   "metadata": {},
   "source": [
    "#### Explain workflow here:"
   ]
  },
  {
   "cell_type": "code",
   "execution_count": null,
   "id": "34a3fbc6-9821-4861-93d4-2c08e459da0e",
   "metadata": {},
   "outputs": [],
   "source": []
  },
  {
   "cell_type": "markdown",
   "id": "fea567ee-6476-44fd-9925-654495e8a018",
   "metadata": {},
   "source": [
    "We just learned how to ask interesting questions to a dataset all while practicing visualizations! If you/your sibling want to apply to universities, you can now analyze a relevant dataset and make a better informed decision based on your personal preferences!"
   ]
  },
  {
   "cell_type": "markdown",
   "id": "5e937d18-5fe1-41ac-b73c-b8c475fb3e16",
   "metadata": {},
   "source": [
    "Congratulations, you're done with Lab 4!  Be sure to \n",
    "- **Keep all your prompts** . \n",
    "- **Save and Checkpoint** from the `File` menu.\n",
    "- **Ensure every cell has been run (has a number Ex:[34] beside the cell)**.\n",
    "- Submit to Gradescope!"
   ]
  }
 ],
 "metadata": {
  "kernelspec": {
   "display_name": "Python 3 (ipykernel)",
   "language": "python",
   "name": "python3"
  },
  "language_info": {
   "codemirror_mode": {
    "name": "ipython",
    "version": 3
   },
   "file_extension": ".py",
   "mimetype": "text/x-python",
   "name": "python",
   "nbconvert_exporter": "python",
   "pygments_lexer": "ipython3",
   "version": "3.11.5"
  }
 },
 "nbformat": 4,
 "nbformat_minor": 5
}
